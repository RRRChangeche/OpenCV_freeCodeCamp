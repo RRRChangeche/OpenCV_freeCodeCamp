{
    "cells": [
        {
            "cell_type": "markdown",
            "source": [
                "# Object Tracking\r\n",
                "\r\n",
                "## Tracker Class in OpenCV\r\n",
                "\r\n",
                "1. BOOSTING\r\n",
                "2. MIL \r\n",
                "3. KCF \r\n",
                "4. CRST\r\n",
                "4. TLD \r\n",
                " * Tends to recover from occulusions\r\n",
                "5. MEDIANFLOW \r\n",
                " * Good for predictable slow motion\r\n",
                "6. GOTURN\r\n",
                " * Deep Learning based\r\n",
                " * Most Accurate \r\n",
                "7. MOSSE\r\n",
                " * Fastest"
            ],
            "metadata": {}
        },
        {
            "cell_type": "code",
            "execution_count": null,
            "source": [],
            "outputs": [],
            "metadata": {}
        }
    ],
    "metadata": {
        "orig_nbformat": 4,
        "language_info": {
            "name": "python",
            "version": "3.8.5",
            "mimetype": "text/x-python",
            "codemirror_mode": {
                "name": "ipython",
                "version": 3
            },
            "pygments_lexer": "ipython3",
            "nbconvert_exporter": "python",
            "file_extension": ".py"
        },
        "kernelspec": {
            "name": "python3",
            "display_name": "Python 3.8.5 64-bit ('OpenCV_ENV': conda)"
        },
        "interpreter": {
            "hash": "b402e3ed7ffac7d4e523fcb32038881d8ae29ddc86898b5237aaad892edc8b35"
        }
    },
    "nbformat": 4,
    "nbformat_minor": 2
}